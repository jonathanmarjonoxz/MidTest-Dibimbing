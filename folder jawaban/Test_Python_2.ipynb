{
  "cells": [
    {
      "cell_type": "markdown",
      "id": "4e147004",
      "metadata": {
        "id": "4e147004"
      },
      "source": [
        "### Python 2 : Find Distance Between Two Coordinates"
      ]
    },
    {
      "cell_type": "markdown",
      "id": "983e04ac",
      "metadata": {
        "id": "983e04ac"
      },
      "source": [
        "### Task"
      ]
    },
    {
      "cell_type": "markdown",
      "id": "5ec350f9",
      "metadata": {
        "id": "5ec350f9"
      },
      "source": [
        "Create a function called ```distance``` that does the following:\n",
        "\n",
        "Given two coordinates in a list. Your task is to calculate the distance between these two coordinates. The input of your function will be two list. Each list contains 2 members, representing the x and y position."
      ]
    },
    {
      "cell_type": "markdown",
      "id": "fe7657d7",
      "metadata": {
        "id": "fe7657d7"
      },
      "source": [
        "### Example 1:\n",
        "\n",
        "**Input**:\n",
        "- point_1 = [5, 5]\n",
        "- point_2 = [1, 2]\n",
        "\n",
        "This means, the first point's coordinate is (5,5), the second point's coordinate is (1,2). To calculate the distance between these two points, we use the usual euclidean distance formula here: https://wikimedia.org/api/rest_v1/media/math/render/svg/2e0c9ce1b3455cb9e92c6bad6684dbda02f69c82.\n",
        "\n",
        "The distance is:\n",
        "\n",
        "Square root of ((5-1)^2 + (5-2)^2) = Square root of (16 + 9) = Square root of (25) = 5.\n",
        "\n",
        "**Output**: 'The distance is 5.'\n",
        "\n",
        "So, when we run the code ```distance(point_1, point_2)``` the output will be 'The distance is 5'."
      ]
    },
    {
      "cell_type": "markdown",
      "id": "70c43c1f",
      "metadata": {
        "id": "70c43c1f"
      },
      "source": [
        "### Example 2:\n",
        "\n",
        "**Input**:\n",
        "- point_1 = [0,-1]\n",
        "- point_2 = [-3, 2]\n",
        "\n",
        "The first coordinate is (0,-1), the second coordinate is (-3,2). The distance between them is:\n",
        "\n",
        "Square root of ((0- -3)^2 + (-1-2)^2) = Square root of (9 + 9) = Square root of (18) = 4.242640687\n",
        "\n",
        "**Output**: 'The distance is 4.242640687'.\n",
        "\n",
        "So, when we run the code ```distance(point_1, point_2)``` the output will be 'The distance is 4.242640487'."
      ]
    },
    {
      "cell_type": "markdown",
      "id": "09f9a98e",
      "metadata": {
        "id": "09f9a98e"
      },
      "source": [
        "### FAQ:\n",
        "\n",
        "- Question: \"Desimalnya dibuletin ngga?\"\n",
        "- Answer: \"Ngga usah peduliin format output desimalnya. Mau keluar berapa angka di belakang koma gapapa kok. Yang penting value-nya benar.\""
      ]
    },
    {
      "cell_type": "markdown",
      "id": "04034fe3",
      "metadata": {
        "id": "04034fe3"
      },
      "source": [
        "### Space for Work"
      ]
    },
    {
      "cell_type": "code",
      "source": [
        "import numpy as np # Library / package"
      ],
      "metadata": {
        "id": "VjmCIjjMpIT-"
      },
      "id": "VjmCIjjMpIT-",
      "execution_count": 63,
      "outputs": []
    },
    {
      "cell_type": "code",
      "execution_count": 64,
      "id": "65f04bc9",
      "metadata": {
        "id": "65f04bc9"
      },
      "outputs": [],
      "source": [
        "def distance(point_1, point_2): # Mendefinisikan fungsi\n",
        "  if len(point_1) and len(point_2) != 2:\n",
        "    # Dengan asumsi wajib input berupa titik koordinat x dan y (dimensi 2D), yakni memiliki panjang 2\n",
        "    # Kedua panjang titik koordinat input harus sama dan terpenuhi syaratnya\n",
        "    # Bila tidak terpenuhi maka akan memunculkan pesan\n",
        "    raise ValueError(\"Points must contain only x and y coordinates\")\n",
        "\n",
        "  squared_distance = np.sum((np.array(point_1) - np.array(point_2)) ** 2)  #Jarak euclidean kuadrat antara dua titik\n",
        "  euclid_distance = np.sqrt(squared_distance) # Menghitung jarak euclidean dengan mengambil akar kuadrat dari hasil sebelumnya\n",
        "  return print(f\"The distance is {euclid_distance}\") # Mengembalikan jarak euclid sebagai string yang diformat, sesuai contoh di atas"
      ]
    },
    {
      "cell_type": "code",
      "source": [
        "# Example 1\n",
        "point_1 = [5,5]\n",
        "point_2 = [1,2]\n",
        "distance(point_1, point_2)"
      ],
      "metadata": {
        "colab": {
          "base_uri": "https://localhost:8080/"
        },
        "id": "yI-eeMzCoh8k",
        "outputId": "97937968-d51b-45e7-eb0b-d3a6b8d0aece"
      },
      "id": "yI-eeMzCoh8k",
      "execution_count": 65,
      "outputs": [
        {
          "output_type": "stream",
          "name": "stdout",
          "text": [
            "The distance is 5.0\n"
          ]
        }
      ]
    },
    {
      "cell_type": "code",
      "source": [
        "# Example 2\n",
        "point_1 = [0, -1]\n",
        "point_2 = [-3, 2]\n",
        "distance(point_1, point_2)"
      ],
      "metadata": {
        "colab": {
          "base_uri": "https://localhost:8080/"
        },
        "id": "BZwQzTrZqV3z",
        "outputId": "0146507f-bf3c-47cd-c897-8735e98c2fc7"
      },
      "id": "BZwQzTrZqV3z",
      "execution_count": 66,
      "outputs": [
        {
          "output_type": "stream",
          "name": "stdout",
          "text": [
            "The distance is 4.242640687119285\n"
          ]
        }
      ]
    },
    {
      "cell_type": "code",
      "source": [
        "# My example 1\n",
        "point_1 = [7, -4]\n",
        "point_2 = [-3, 5]\n",
        "distance(point_1, point_2)"
      ],
      "metadata": {
        "colab": {
          "base_uri": "https://localhost:8080/"
        },
        "id": "esP4UJ0qti4q",
        "outputId": "a3f7e034-a046-492e-ce33-46b4a2cd5f9b"
      },
      "id": "esP4UJ0qti4q",
      "execution_count": 67,
      "outputs": [
        {
          "output_type": "stream",
          "name": "stdout",
          "text": [
            "The distance is 13.45362404707371\n"
          ]
        }
      ]
    },
    {
      "cell_type": "code",
      "source": [
        "# My example 2 (dengan memunculkan warning raise ValueError)\n",
        "point_1 = [7, -4, 5] # Ditambahkan angka 5\n",
        "point_2 = [-3, 5, 6] # Ditambahkan angka 6\n",
        "# Walaupun sama-sama x,y,z tetap gagal karena harus x dan y\n",
        "distance(point_1, point_2)"
      ],
      "metadata": {
        "colab": {
          "base_uri": "https://localhost:8080/",
          "height": 307
        },
        "id": "VdgnspMquK4F",
        "outputId": "953a6806-ccd1-49e6-fd54-7a6f72631b79"
      },
      "id": "VdgnspMquK4F",
      "execution_count": 68,
      "outputs": [
        {
          "output_type": "error",
          "ename": "ValueError",
          "evalue": "Points must contain only x and y coordinates",
          "traceback": [
            "\u001b[0;31m---------------------------------------------------------------------------\u001b[0m",
            "\u001b[0;31mValueError\u001b[0m                                Traceback (most recent call last)",
            "\u001b[0;32m<ipython-input-68-ead0f226ff46>\u001b[0m in \u001b[0;36m<cell line: 5>\u001b[0;34m()\u001b[0m\n\u001b[1;32m      3\u001b[0m \u001b[0mpoint_2\u001b[0m \u001b[0;34m=\u001b[0m \u001b[0;34m[\u001b[0m\u001b[0;34m-\u001b[0m\u001b[0;36m3\u001b[0m\u001b[0;34m,\u001b[0m \u001b[0;36m5\u001b[0m\u001b[0;34m,\u001b[0m \u001b[0;36m6\u001b[0m\u001b[0;34m]\u001b[0m \u001b[0;31m# Ditambahkan angka 6\u001b[0m\u001b[0;34m\u001b[0m\u001b[0;34m\u001b[0m\u001b[0m\n\u001b[1;32m      4\u001b[0m \u001b[0;31m# Walaupun sama-sama x,y,z tetap gagal karena harus x dan y\u001b[0m\u001b[0;34m\u001b[0m\u001b[0;34m\u001b[0m\u001b[0m\n\u001b[0;32m----> 5\u001b[0;31m \u001b[0mdistance\u001b[0m\u001b[0;34m(\u001b[0m\u001b[0mpoint_1\u001b[0m\u001b[0;34m,\u001b[0m \u001b[0mpoint_2\u001b[0m\u001b[0;34m)\u001b[0m\u001b[0;34m\u001b[0m\u001b[0;34m\u001b[0m\u001b[0m\n\u001b[0m",
            "\u001b[0;32m<ipython-input-64-c7e467527256>\u001b[0m in \u001b[0;36mdistance\u001b[0;34m(point_1, point_2)\u001b[0m\n\u001b[1;32m      4\u001b[0m     \u001b[0;31m# Kedua panjang titik koordinat input harus sama dan terpenuhi syaratnya\u001b[0m\u001b[0;34m\u001b[0m\u001b[0;34m\u001b[0m\u001b[0m\n\u001b[1;32m      5\u001b[0m     \u001b[0;31m# Bila tidak terpenuhi maka akan memunculkan pesan\u001b[0m\u001b[0;34m\u001b[0m\u001b[0;34m\u001b[0m\u001b[0m\n\u001b[0;32m----> 6\u001b[0;31m     \u001b[0;32mraise\u001b[0m \u001b[0mValueError\u001b[0m\u001b[0;34m(\u001b[0m\u001b[0;34m\"Points must contain only x and y coordinates\"\u001b[0m\u001b[0;34m)\u001b[0m\u001b[0;34m\u001b[0m\u001b[0;34m\u001b[0m\u001b[0m\n\u001b[0m\u001b[1;32m      7\u001b[0m \u001b[0;34m\u001b[0m\u001b[0m\n\u001b[1;32m      8\u001b[0m   \u001b[0msquared_distance\u001b[0m \u001b[0;34m=\u001b[0m \u001b[0mnp\u001b[0m\u001b[0;34m.\u001b[0m\u001b[0msum\u001b[0m\u001b[0;34m(\u001b[0m\u001b[0;34m(\u001b[0m\u001b[0mnp\u001b[0m\u001b[0;34m.\u001b[0m\u001b[0marray\u001b[0m\u001b[0;34m(\u001b[0m\u001b[0mpoint_1\u001b[0m\u001b[0;34m)\u001b[0m \u001b[0;34m-\u001b[0m \u001b[0mnp\u001b[0m\u001b[0;34m.\u001b[0m\u001b[0marray\u001b[0m\u001b[0;34m(\u001b[0m\u001b[0mpoint_2\u001b[0m\u001b[0;34m)\u001b[0m\u001b[0;34m)\u001b[0m \u001b[0;34m**\u001b[0m \u001b[0;36m2\u001b[0m\u001b[0;34m)\u001b[0m  \u001b[0;31m#Jarak euclidean kuadrat antara dua titik\u001b[0m\u001b[0;34m\u001b[0m\u001b[0;34m\u001b[0m\u001b[0m\n",
            "\u001b[0;31mValueError\u001b[0m: Points must contain only x and y coordinates"
          ]
        }
      ]
    }
  ],
  "metadata": {
    "kernelspec": {
      "display_name": "Python 3",
      "language": "python",
      "name": "python3"
    },
    "language_info": {
      "codemirror_mode": {
        "name": "ipython",
        "version": 3
      },
      "file_extension": ".py",
      "mimetype": "text/x-python",
      "name": "python",
      "nbconvert_exporter": "python",
      "pygments_lexer": "ipython3",
      "version": "3.7.0"
    },
    "colab": {
      "provenance": []
    }
  },
  "nbformat": 4,
  "nbformat_minor": 5
}