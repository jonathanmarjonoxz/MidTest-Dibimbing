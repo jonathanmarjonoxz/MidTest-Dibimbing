{
  "nbformat": 4,
  "nbformat_minor": 5,
  "metadata": {
    "kernelspec": {
      "display_name": "Python 3",
      "language": "python",
      "name": "python3"
    },
    "language_info": {
      "codemirror_mode": {
        "name": "ipython",
        "version": 3
      },
      "file_extension": ".py",
      "mimetype": "text/x-python",
      "name": "python",
      "nbconvert_exporter": "python",
      "pygments_lexer": "ipython3",
      "version": "3.7.0"
    },
    "colab": {
      "provenance": []
    }
  },
  "cells": [
    {
      "cell_type": "markdown",
      "metadata": {
        "id": "87919d68"
      },
      "source": [
        "### Python 1 : Who is in the third place?"
      ],
      "id": "87919d68"
    },
    {
      "cell_type": "markdown",
      "metadata": {
        "id": "c061c30a"
      },
      "source": [
        "### Task"
      ],
      "id": "c061c30a"
    },
    {
      "cell_type": "markdown",
      "metadata": {
        "id": "66fcf833"
      },
      "source": [
        "Create a function whose name is ```third_place``` that does the following:\n",
        "\n",
        "Given a list of test score and a list of participants name. The desired output would be the name of the participant who gets the 3rd best score. The rule of determining the order of the best score is as follows:\n",
        "- Higher score is better\n",
        "- In case of multiple participants having the same test score, they can occupy the same ranking value. For example, if 2 participants scored 100, then both of them occupy the first place.\n",
        "\n",
        "The first input of the function is the name list, and the second input to the function is the score list."
      ],
      "id": "66fcf833"
    },
    {
      "cell_type": "markdown",
      "metadata": {
        "id": "aee24374"
      },
      "source": [
        "### Example 1:\n",
        "\n",
        "**Input**:\n",
        "- names = [Andi, Budi, Charlie, Dilan, Echa]\n",
        "- score = [80, 90, 95, 100, 85]\n",
        "\n",
        "This means, Andi gets 80, Budi gets 90, Charlie gets 95, Dilan gets 100, and Echa gets 85. The first best score is 100, and Dilan gets it. The second best score is 95, and Charlie gets it. The third best score is 90, and Budi gets it. So, our output should be Budi.\n",
        "\n",
        "**Output**: 'The third winner: Budi'.\n",
        "\n",
        "When we run ```third_place(names, score)```, the output will be 'The third winner: Budi'."
      ],
      "id": "aee24374"
    },
    {
      "cell_type": "markdown",
      "metadata": {
        "id": "e85af386"
      },
      "source": [
        "### Example 2:\n",
        "\n",
        "**Input**:\n",
        "- names = [Andi, Budi, Charlie, Dilan, Echa]\n",
        "- score = [80, 80, 80, 100, 90]\n",
        "\n",
        "This means, Andi, Budi, and Charlie gets 80, Dilan gets 100, and Echa gets 90. The third best score is 80, and our output should list ALL of the participants who get 80.\n",
        "\n",
        "**Output**: 'The third winner: Andi, Budi, Charlie'.\n",
        "\n",
        "When we run ```third_place(names, score)```, the output will be 'The third winner: Andi, Budi, Charlie'."
      ],
      "id": "e85af386"
    },
    {
      "cell_type": "markdown",
      "metadata": {
        "id": "bbeb3f41"
      },
      "source": [
        "### Example 3:\n",
        "\n",
        "**Input**:\n",
        "- names = [Andi, Budi, Charlie, Dilan, Echa, Fanya]\n",
        "- score = [80, 90, 90, 100, 100, 80]\n",
        "\n",
        "The first best score (first winner) is 100 - Dilan and Echa shared this position. The second best score (second winner) is 90 - Budi and Charlie shared this position. The third best score (third winner) is 80, and it is shared by Andi and Fanya. So, our output should be Andi and Fanya.\n",
        "\n",
        "**Output**: 'The third winner: Andi, Fanya'."
      ],
      "id": "bbeb3f41"
    },
    {
      "cell_type": "markdown",
      "metadata": {
        "id": "8306d027"
      },
      "source": [
        "### Space for Work"
      ],
      "id": "8306d027"
    },
    {
      "cell_type": "code",
      "source": [
        "import pandas as pd # Library / package"
      ],
      "metadata": {
        "id": "boaebL7tlKxU"
      },
      "id": "boaebL7tlKxU",
      "execution_count": 58,
      "outputs": []
    },
    {
      "cell_type": "code",
      "source": [
        "def third_place(names, score):\n",
        "    df = pd.DataFrame({'Name': names, 'Score': score}) # Membuat ke dataframe\n",
        "    sorted_df = df.sort_values(by='Score', ascending=False) # Mengurutkan dataframe dalam urutan menurun\n",
        "    unique_scores = sorted_df['Score'].unique()  # Mengidentifikasi skor unik\n",
        "\n",
        "    # Menemukan Skor ke-3 Tertinggi\n",
        "    third_score = unique_scores[2] if len(unique_scores) > 2 else unique_scores[-1]\n",
        "\n",
        "    # Mencari Peserta dengan Skor ke-3 Tertinggi\n",
        "    third_place_names = sorted_df[sorted_df['Score'] == third_score]['Name'].tolist()\n",
        "\n",
        "    # Membuat Output\n",
        "    output = f\"The third winner: {', '.join(third_place_names)}\"\n",
        "    return output"
      ],
      "metadata": {
        "id": "ANXQim-Y4rAs"
      },
      "id": "ANXQim-Y4rAs",
      "execution_count": 59,
      "outputs": []
    },
    {
      "cell_type": "code",
      "source": [
        "# Example 1\n",
        "names = ['Andi', 'Budi', 'Charlie', 'Dilan', 'Echa']\n",
        "score = [80, 90, 95, 100, 85]\n",
        "print(third_place(names, score))"
      ],
      "metadata": {
        "colab": {
          "base_uri": "https://localhost:8080/"
        },
        "id": "JQciPjjPjZTP",
        "outputId": "e28039fe-1cf9-48d0-8ad7-e5fab8f5f670"
      },
      "id": "JQciPjjPjZTP",
      "execution_count": 60,
      "outputs": [
        {
          "output_type": "stream",
          "name": "stdout",
          "text": [
            "The third winner: Budi\n"
          ]
        }
      ]
    },
    {
      "cell_type": "code",
      "source": [
        "# Example 2\n",
        "names = ['Andi', 'Budi', 'Charlie', 'Dilan', 'Echa']\n",
        "score = [80, 80, 80, 100, 90]\n",
        "print(third_place(names, score))"
      ],
      "metadata": {
        "colab": {
          "base_uri": "https://localhost:8080/"
        },
        "id": "0GOtGb8gj7Ne",
        "outputId": "f94f476a-488b-47de-f58d-a5ce0362dfeb"
      },
      "id": "0GOtGb8gj7Ne",
      "execution_count": 61,
      "outputs": [
        {
          "output_type": "stream",
          "name": "stdout",
          "text": [
            "The third winner: Andi, Budi, Charlie\n"
          ]
        }
      ]
    },
    {
      "cell_type": "code",
      "source": [
        "# Example 3\n",
        "names = ['Andi', 'Budi', 'Charlie', 'Dilan', 'Echa', 'Fanya']\n",
        "score = [80, 90, 90, 100, 100, 80]\n",
        "print(third_place(names, score))"
      ],
      "metadata": {
        "colab": {
          "base_uri": "https://localhost:8080/"
        },
        "id": "_JQfHTq4kfCq",
        "outputId": "e2b06c1c-feb6-407c-bce6-ebc602da2785"
      },
      "id": "_JQfHTq4kfCq",
      "execution_count": 62,
      "outputs": [
        {
          "output_type": "stream",
          "name": "stdout",
          "text": [
            "The third winner: Andi, Fanya\n"
          ]
        }
      ]
    },
    {
      "cell_type": "code",
      "source": [
        "# My example\n",
        "names = ['Nath', 'Eja', 'Nabil', 'Windi', 'Nafiz', 'Fadly', 'Much', 'Jojo', 'Pingkan', 'Nazu', 'Natnat', 'Dindana']\n",
        "score = [85, 88, 90, 84, 90, 88, 85, 88, 85, 90, 90, 85]\n",
        "#90, 88, 85, 84 (maka ouputnya harus nama yang memiliki nilai 85)\n",
        "print(third_place(names, score))"
      ],
      "metadata": {
        "colab": {
          "base_uri": "https://localhost:8080/"
        },
        "id": "vnLko6VEmS8-",
        "outputId": "8eb44d98-2b45-40aa-84bc-162be030d5e0"
      },
      "id": "vnLko6VEmS8-",
      "execution_count": 63,
      "outputs": [
        {
          "output_type": "stream",
          "name": "stdout",
          "text": [
            "The third winner: Nath, Much, Pingkan, Dindana\n"
          ]
        }
      ]
    }
  ]
}